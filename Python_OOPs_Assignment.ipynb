{
  "nbformat": 4,
  "nbformat_minor": 0,
  "metadata": {
    "colab": {
      "provenance": []
    },
    "kernelspec": {
      "name": "python3",
      "display_name": "Python 3"
    },
    "language_info": {
      "name": "python"
    }
  },
  "cells": [
    {
      "cell_type": "markdown",
      "source": [
        "# Python OOPs Theory Question"
      ],
      "metadata": {
        "id": "ny6D09yVBzCO"
      }
    },
    {
      "cell_type": "markdown",
      "source": [
        "1. What is Object-Oriented Programming (OOP)?\n",
        "\n",
        "Answer --> OOP is a programming paradigm where we design programs using objects and classes. It helps in reusability, modularity, and better structure.\n",
        "\n",
        "Example:\n",
        "\n",
        "class Car:\n",
        "    def __init__(self, brand):\n",
        "        self.brand = brand\n",
        "\n",
        "mycar = Car(\"Tesla\")\n",
        "print(mycar.brand)"
      ],
      "metadata": {
        "id": "ecbZ_jJUBxxZ"
      }
    },
    {
      "cell_type": "markdown",
      "source": [
        "2. What is a class in OOP?\n",
        "\n",
        "Answer --> A class is a blueprint for creating objects. It defines attributes (variables) and methods (functions).\n",
        "Example:\n",
        "\n",
        "class Student:\n",
        "    def __init__(self, name):\n",
        "        self.name = name"
      ],
      "metadata": {
        "id": "Waa6Q9QOCI4e"
      }
    },
    {
      "cell_type": "markdown",
      "source": [
        "3. What is an object in OOP?\n",
        "\n",
        "Answer --> An object is an instance of a class.\n",
        "\n",
        "Example:\n",
        "\n",
        "s1 = Student(\"Sneha\")   # object of Student class\n",
        "print(s1.name)"
      ],
      "metadata": {
        "id": "vn4LOKOfCI1D"
      }
    },
    {
      "cell_type": "markdown",
      "source": [
        "4. What is the difference between abstraction and encapsulation?\n",
        "\n",
        "Answer --> Abstraction → Hiding implementation details and showing only necessary features.\n",
        "\n",
        "Encapsulation → Binding data (variables) and methods in a single unit (class)."
      ],
      "metadata": {
        "id": "77BElASeCIyh"
      }
    },
    {
      "cell_type": "markdown",
      "source": [
        "5. What are dunder methods in Python?\n",
        "\n",
        "Answer --> Dunder (double underscore) methods are special methods like __init__, __str__, __len__.\n",
        "\n",
        "Example:\n",
        "\n",
        "class Book:\n",
        "    def __init__(self, title):\n",
        "        self.title = title\n",
        "    def __str__(self):\n",
        "        return f\"Book: {self.title}\"\n",
        "\n",
        "b = Book(\"Python\")\n",
        "print(b)   # calls __str__()"
      ],
      "metadata": {
        "id": "oUolVVfHCIvs"
      }
    },
    {
      "cell_type": "markdown",
      "source": [
        "6. Explain the concept of inheritance in OOP.\n",
        "\n",
        "Answer--> Inheritance allows one class (child) to use properties and methods of another class (parent).\n",
        "\n",
        "Example:\n",
        "\n",
        "class Animal:\n",
        "    def speak(self):\n",
        "        print(\"Animal speaks\")\n",
        "\n",
        "class Dog(Animal):\n",
        "    def speak(self):\n",
        "        print(\"Dog barks\")\n",
        "\n",
        "d = Dog()\n",
        "d.speak()"
      ],
      "metadata": {
        "id": "C1f_bxEBCItN"
      }
    },
    {
      "cell_type": "markdown",
      "source": [
        "7. What is polymorphism in OOP?\n",
        "\n",
        "Answer --> Polymorphism means using a single interface in different forms (method overriding/overloading)."
      ],
      "metadata": {
        "id": "lPvNg-53CIqr"
      }
    },
    {
      "cell_type": "markdown",
      "source": [
        "8. How is encapsulation achieved in Python?\n",
        "\n",
        "Answer--> Encapsulation is achieved by defining class variables as private (using _ or __) and controlling access with methods.\n",
        "\n",
        "Example:\n",
        "\n",
        "class Bank:\n",
        "def __init__(self):\n",
        "\n",
        "self.__balance = 1000   # private\n",
        "\n",
        "def get_balance(self):\n",
        "\n",
        "return self.__balance\n",
        "\n",
        "\n"
      ],
      "metadata": {
        "id": "u37R4R1zCIoe"
      }
    },
    {
      "cell_type": "markdown",
      "source": [
        "9. What is a constructor in Python?\n",
        "\n",
        "Answer --> The __init__ method is called a constructor. It initializes object attributes."
      ],
      "metadata": {
        "id": "j7RI3e3PCIl2"
      }
    },
    {
      "cell_type": "markdown",
      "source": [
        "10. What are class and static methods in Python?\n",
        "\n",
        "Answer --> Class method (@classmethod) → Works with the class, takes cls as first argument.\n",
        "\n",
        "Static method (@staticmethod) → Independent function inside a class."
      ],
      "metadata": {
        "id": "RVBWkmf1CIjA"
      }
    },
    {
      "cell_type": "markdown",
      "source": [
        "11. What is method overloading in Python?\n",
        "\n",
        "Answer--> Python does not support true method overloading. We can achieve it using default arguments.\n",
        "\n",
        "Example:\n",
        "\n",
        "class Math:\n",
        "    def add(self, a, b=0):\n",
        "        return a + b"
      ],
      "metadata": {
        "id": "K_cNJHU8CIf5"
      }
    },
    {
      "cell_type": "markdown",
      "source": [
        "12. What is method overriding in OOP?\n",
        "\n",
        "Answer --> When a child class defines a method with the same name as its parent class, it overrides it."
      ],
      "metadata": {
        "id": "Y2OHtaxGCIc2"
      }
    },
    {
      "cell_type": "markdown",
      "source": [
        "13. What is a property decorator in Python?\n",
        "\n",
        "Answer --> @property is used to make a method behave like an attribute.\n",
        "Example:\n",
        "\n",
        "class Circle:\n",
        "\n",
        "def __init__(self, r):\n",
        "        \n",
        "self.r = r\n",
        "\n",
        "@property\n",
        "    \n",
        "def area(self):\n",
        "\n",
        "return 3.14 * self.r * self.r"
      ],
      "metadata": {
        "id": "nzqz_RrICIUf"
      }
    },
    {
      "cell_type": "markdown",
      "source": [
        "14. Why is polymorphism important in OOP?\n",
        "\n",
        "Answer--> It allows flexibility and code reuse by treating different objects the same way."
      ],
      "metadata": {
        "id": "y9WaXBJYCIQ6"
      }
    },
    {
      "cell_type": "markdown",
      "source": [
        "15. What is an abstract class in Python?\n",
        "\n",
        "Answer --> A class that cannot be instantiated directly and contains abstract methods (@abstractmethod)."
      ],
      "metadata": {
        "id": "8ibMIZ_8CIIR"
      }
    },
    {
      "cell_type": "markdown",
      "source": [
        "16. What are the advantages of OOP?\n",
        "\n",
        "Answer --> Advantages of oop -\n",
        "Code reusability\n",
        "\n",
        "Modularity\n",
        "\n",
        "Easy maintenance\n",
        "\n",
        "Encapsulation\n"
      ],
      "metadata": {
        "id": "_Rpdbi6gEkzC"
      }
    },
    {
      "cell_type": "markdown",
      "source": [
        "17. What is the difference between a class variable and an instance variable?\n",
        "\n",
        "\n",
        "Answer --> Class variable → Shared by all objects.\n",
        "\n",
        "Instance variable → Unique to each object."
      ],
      "metadata": {
        "id": "C-BTE9KxEkvp"
      }
    },
    {
      "cell_type": "markdown",
      "source": [
        "18. What is multiple inheritance in Python?\n",
        "\n",
        "Answer-->When a class inherits from more than one class.\n",
        "\n",
        " Example:\n",
        "\n",
        "class A: pass\n",
        "class B: pass\n",
        "class C(A, B): pass"
      ],
      "metadata": {
        "id": "iItPRVvQEks4"
      }
    },
    {
      "cell_type": "markdown",
      "source": [
        "19. Explain the purpose of __str__ and __repr__ methods in Python.\n",
        "\n",
        "Answer --> __str__ → For user-friendly string representation.\n",
        "\n",
        "__repr__ → For developer/debugging representation."
      ],
      "metadata": {
        "id": "HheDiPs1EkqK"
      }
    },
    {
      "cell_type": "markdown",
      "source": [
        "20. What is the significance of the super() function in Python?\n",
        "\n",
        "Answer --> super() is used to call methods of a parent class inside a child class."
      ],
      "metadata": {
        "id": "i2Hv7rg-Eknp"
      }
    },
    {
      "cell_type": "markdown",
      "source": [
        "21. What is the significance of the __del__ method in Python?\n",
        "\n",
        "Answer --> It is a destructor method, called when an object is deleted."
      ],
      "metadata": {
        "id": "RsBHADJIEkk9"
      }
    },
    {
      "cell_type": "markdown",
      "source": [
        "22. What is the difference between @staticmethod and @classmethod in Python?\n",
        "\n",
        "Answer -- >@staticmethod: No access to class or instance (self/cls).\n",
        "\n",
        "@classmethod: Works with the class (cls)."
      ],
      "metadata": {
        "id": "4x332FS8EkiS"
      }
    },
    {
      "cell_type": "markdown",
      "source": [
        "23. How does polymorphism work in Python with inheritance?\n",
        "\n",
        "Answer --> In Python, polymorphism allows a child class to provide a specific implementation of a method that is already defined in its parent class. This is usually done through method overriding.\n",
        "\n",
        "Example:\n",
        "\n",
        "class Animal:\n",
        "    def sound(self):\n",
        "        print(\"Some generic sound\")\n",
        "\n",
        "class Dog(Animal):\n",
        "    def sound(self):\n",
        "        print(\"Bark\")\n",
        "\n",
        "class Cat(Animal):\n",
        "    def sound(self):\n",
        "        print(\"Meow\")\n",
        "\n",
        "animals = [Dog(), Cat()]\n",
        "for a in animals:\n",
        "    a.sound()\n",
        "\n",
        "\n",
        "Output:\n",
        "\n",
        "Bark  \n",
        "Meow\n",
        "\n",
        "\n",
        "The same method sound() works differently depending on the object → polymorphism."
      ],
      "metadata": {
        "id": "5vCITl59FdG2"
      }
    },
    {
      "cell_type": "markdown",
      "source": [
        "24. What is method chaining in Python OOP?\n",
        "\n",
        "Answer --> Method chaining means calling multiple methods on the same object in a single line. This is possible when each method returns the object itself (return self).\n",
        "\n",
        "Example:\n",
        "\n",
        "class Student:\n",
        "    def __init__(self, name):\n",
        "        self.name = name\n",
        "    \n",
        "    def study(self):\n",
        "        print(self.name, \"is studying\")\n",
        "        return self\n",
        "    \n",
        "    def sleep(self):\n",
        "        print(self.name, \"is sleeping\")\n",
        "        return self\n",
        "\n",
        "s = Student(\"Sneha\")\n",
        "s.study().sleep()\n",
        "\n",
        "Output:\n",
        "\n",
        "Sneha is studying  \n",
        "Sneha is sleeping"
      ],
      "metadata": {
        "id": "PdB_f3K9Fcrm"
      }
    },
    {
      "cell_type": "markdown",
      "source": [
        "25. What is the purpose of the __call__ method in Python?\n",
        "\n",
        "Answer --> The __call__ method allows an object of a class to be called like a function.\n",
        "\n",
        "Example:\n",
        "\n",
        "class Multiplier:\n",
        "    def __init__(self, factor):\n",
        "        self.factor = factor\n",
        "    \n",
        "    def __call__(self, x):\n",
        "        return x * self.factor\n",
        "\n",
        "times3 = Multiplier(3)\n",
        "print(times3(5))   # acts like a function → 15\n",
        "\n",
        "Here, times3(5) works because of __call__."
      ],
      "metadata": {
        "id": "BYg4hjCvFcoL"
      }
    },
    {
      "cell_type": "markdown",
      "source": [
        "# Practical Questions"
      ],
      "metadata": {
        "id": "UllnWDLVGGpW"
      }
    },
    {
      "cell_type": "code",
      "source": [
        "# 1. Create a parent class Animal with a method speak() that prints a generic message.\n",
        "# Create a child class Dog that overrides the speak() method to print \"Bark!\".\n",
        "\n",
        "class Animal:\n",
        "    def speak(self):\n",
        "        print(\"This is a generic animal sound.\")\n",
        "\n",
        "class Dog(Animal):\n",
        "    def speak(self):\n",
        "        print(\"Bark!\")\n",
        "\n",
        "# Test\n",
        "a = Animal()\n",
        "a.speak()\n",
        "\n",
        "d = Dog()\n",
        "d.speak()"
      ],
      "metadata": {
        "colab": {
          "base_uri": "https://localhost:8080/"
        },
        "id": "mbs7F0xnGLcc",
        "outputId": "54a5b0f9-5867-4f3d-a2c6-4fe991af6d75"
      },
      "execution_count": 5,
      "outputs": [
        {
          "output_type": "stream",
          "name": "stdout",
          "text": [
            "This is a generic animal sound.\n",
            "Bark!\n"
          ]
        }
      ]
    },
    {
      "cell_type": "code",
      "source": [
        "# 2. Write a program to create an abstract class Shape with a method area().\n",
        "# Derive classes Circle and Rectangle from it and implement the area() method in both.\n",
        "\n",
        "from abc import ABC, abstractmethod\n",
        "\n",
        "class Shape(ABC):\n",
        "    @abstractmethod\n",
        "    def area(self):\n",
        "        pass\n",
        "\n",
        "class Circle(Shape):\n",
        "    def __init__(self, radius):\n",
        "        self.radius = radius\n",
        "\n",
        "    def area(self):\n",
        "        return 3.14 * self.radius * self.radius\n",
        "\n",
        "class Rectangle(Shape):\n",
        "    def __init__(self, length, width):\n",
        "        self.length = length\n",
        "        self.width = width\n",
        "\n",
        "    def area(self):\n",
        "        return self.length * self.width\n",
        "\n",
        "# Test\n",
        "c = Circle(5)\n",
        "print(\"Circle area:\", c.area())\n",
        "\n",
        "r = Rectangle(4, 6)\n",
        "print(\"Rectangle area:\", r.area())"
      ],
      "metadata": {
        "colab": {
          "base_uri": "https://localhost:8080/"
        },
        "id": "XVzvuOSwGNGj",
        "outputId": "4e71052e-0e1a-41f2-c9e8-05811dbf9c2b"
      },
      "execution_count": 6,
      "outputs": [
        {
          "output_type": "stream",
          "name": "stdout",
          "text": [
            "Circle area: 78.5\n",
            "Rectangle area: 24\n"
          ]
        }
      ]
    },
    {
      "cell_type": "code",
      "source": [
        "# 3. Implement a multi-level inheritance scenario where a class Vehicle has an attribute type.\n",
        "# Derive a class Car and further derive a class ElectricCar that adds a battery attribute.\n",
        "\n",
        "class Vehicle:\n",
        "    def __init__(self, vtype):\n",
        "        self.vtype = vtype\n",
        "\n",
        "class Car(Vehicle):\n",
        "    def __init__(self, vtype, brand):\n",
        "        super().__init__(vtype)\n",
        "        self.brand = brand\n",
        "\n",
        "class ElectricCar(Car):\n",
        "    def __init__(self, vtype, brand, battery):\n",
        "        super().__init__(vtype, brand)\n",
        "        self.battery = battery\n",
        "\n",
        "ec = ElectricCar(\"Four Wheeler\", \"Tesla\", \"85 kWh\")\n",
        "print(ec.vtype, ec.brand, ec.battery)"
      ],
      "metadata": {
        "colab": {
          "base_uri": "https://localhost:8080/"
        },
        "id": "-bo1Ug7DGNC-",
        "outputId": "70131999-a512-4203-879b-bb28c825adce"
      },
      "execution_count": 7,
      "outputs": [
        {
          "output_type": "stream",
          "name": "stdout",
          "text": [
            "Four Wheeler Tesla 85 kWh\n"
          ]
        }
      ]
    },
    {
      "cell_type": "code",
      "source": [
        "# 4. Demonstrate polymorphism by creating a base class Bird with a method fly().\n",
        "#  Create two derived classes Sparrow and Penguin that override the fly() method.\n",
        "\n",
        "class Bird:\n",
        "    def fly(self):\n",
        "        print(\"Birds can fly.\")\n",
        "\n",
        "class Sparrow(Bird):\n",
        "    def fly(self):\n",
        "        print(\"Sparrow flies high.\")\n",
        "\n",
        "class Penguin(Bird):\n",
        "    def fly(self):\n",
        "        print(\"Penguins cannot fly.\")\n",
        "\n",
        "birds = [Sparrow(), Penguin()]\n",
        "for b in birds:\n",
        "    b.fly()\n"
      ],
      "metadata": {
        "colab": {
          "base_uri": "https://localhost:8080/"
        },
        "id": "aM7mvJmKGM9e",
        "outputId": "d84ca76b-e1b1-43b4-aadc-b9d7d9461dac"
      },
      "execution_count": 8,
      "outputs": [
        {
          "output_type": "stream",
          "name": "stdout",
          "text": [
            "Sparrow flies high.\n",
            "Penguins cannot fly.\n"
          ]
        }
      ]
    },
    {
      "cell_type": "code",
      "source": [
        "# 5. Write a program to demonstrate encapsulation by creating a class BankAccount\n",
        "#  with private attributes balance and methods to deposit, withdraw, and check balance.\n",
        "\n",
        "class BankAccount:\n",
        "    def __init__(self, balance=0):\n",
        "        self.__balance = balance   # private attribute\n",
        "\n",
        "    def deposit(self, amount):\n",
        "        self.__balance += amount\n",
        "\n",
        "    def withdraw(self, amount):\n",
        "        if amount <= self.__balance:\n",
        "            self.__balance -= amount\n",
        "        else:\n",
        "            print(\"Insufficient balance\")\n",
        "\n",
        "    def get_balance(self):\n",
        "        return self.__balance\n",
        "\n",
        "acc = BankAccount(1000)\n",
        "acc.deposit(500)\n",
        "acc.withdraw(200)\n",
        "print(\"Balance:\", acc.get_balance())"
      ],
      "metadata": {
        "colab": {
          "base_uri": "https://localhost:8080/"
        },
        "id": "m0P-vRlIGM68",
        "outputId": "6a1693cd-e1db-46d1-9f11-36478131699a"
      },
      "execution_count": 9,
      "outputs": [
        {
          "output_type": "stream",
          "name": "stdout",
          "text": [
            "Balance: 1300\n"
          ]
        }
      ]
    },
    {
      "cell_type": "code",
      "source": [
        "# 6. Demonstrate runtime polymorphism using a method play() in a base class Instrument.\n",
        "#  Derive classes Guitar and Piano that implement their own version of play().\n",
        "\n",
        "class Instrument:\n",
        "    def play(self):\n",
        "        print(\"Instrument is playing.\")\n",
        "\n",
        "class Guitar(Instrument):\n",
        "    def play(self):\n",
        "        print(\"Strumming the guitar.\")\n",
        "\n",
        "class Piano(Instrument):\n",
        "    def play(self):\n",
        "        print(\"Playing the piano.\")\n",
        "\n",
        "instruments = [Guitar(), Piano()]\n",
        "for i in instruments:\n",
        "    i.play()"
      ],
      "metadata": {
        "colab": {
          "base_uri": "https://localhost:8080/"
        },
        "id": "6YAxEbXtGM4s",
        "outputId": "828e68fa-1805-41b3-e6a0-e2d68ff8baf4"
      },
      "execution_count": 10,
      "outputs": [
        {
          "output_type": "stream",
          "name": "stdout",
          "text": [
            "Strumming the guitar.\n",
            "Playing the piano.\n"
          ]
        }
      ]
    },
    {
      "cell_type": "code",
      "source": [
        "# 7. Create a class MathOperations with a class method add_numbers() to add two\n",
        "#  numbers and a static method subtract_numbers() to subtract two numbers.\n",
        "\n",
        "class MathOperations:\n",
        "    @classmethod\n",
        "    def add_numbers(cls, a, b):\n",
        "        return a + b\n",
        "\n",
        "    @staticmethod\n",
        "    def subtract_numbers(a, b):\n",
        "        return a - b\n",
        "\n",
        "print(MathOperations.add_numbers(5, 3))\n",
        "print(MathOperations.subtract_numbers(10, 4))"
      ],
      "metadata": {
        "colab": {
          "base_uri": "https://localhost:8080/"
        },
        "id": "t3ERaul9GM2D",
        "outputId": "5d985b73-5b01-4737-8634-8dfb814df6c4"
      },
      "execution_count": 11,
      "outputs": [
        {
          "output_type": "stream",
          "name": "stdout",
          "text": [
            "8\n",
            "6\n"
          ]
        }
      ]
    },
    {
      "cell_type": "code",
      "source": [
        "# 8. Implement a class Person with a class method to count the total number of persons created.\n",
        "\n",
        "class Person:\n",
        "    count = 0\n",
        "\n",
        "    def __init__(self, name):\n",
        "        self.name = name\n",
        "        Person.count += 1\n",
        "\n",
        "    @classmethod\n",
        "    def total_persons(cls):\n",
        "        return cls.count\n",
        "\n",
        "p1 = Person(\"Sneha\")\n",
        "p2 = Person(\"Ravi\")\n",
        "print(\"Total persons:\", Person.total_persons())\n"
      ],
      "metadata": {
        "colab": {
          "base_uri": "https://localhost:8080/"
        },
        "id": "6_IKc3OLGMzi",
        "outputId": "af488c6c-d338-479c-8088-f0179f6d1203"
      },
      "execution_count": 12,
      "outputs": [
        {
          "output_type": "stream",
          "name": "stdout",
          "text": [
            "Total persons: 2\n"
          ]
        }
      ]
    },
    {
      "cell_type": "code",
      "source": [
        "# 9. Write a class Fraction with attributes numerator and denominator.\n",
        "#  Override the str method to display the fraction as \"numerator/denominator\".\n",
        "\n",
        "class Fraction:\n",
        "    def __init__(self, num, den):\n",
        "        self.num = num\n",
        "        self.den = den\n",
        "\n",
        "    def __str__(self):\n",
        "        return f\"{self.num}/{self.den}\"\n",
        "\n",
        "f = Fraction(3, 4)\n",
        "print(f)"
      ],
      "metadata": {
        "colab": {
          "base_uri": "https://localhost:8080/"
        },
        "id": "ra8sFUseGMw3",
        "outputId": "882e82d6-9db6-4c97-a1dc-7f5ab005e2fa"
      },
      "execution_count": 13,
      "outputs": [
        {
          "output_type": "stream",
          "name": "stdout",
          "text": [
            "3/4\n"
          ]
        }
      ]
    },
    {
      "cell_type": "code",
      "source": [
        "# 10. Demonstrate operator overloading by creating a class Vector and overriding the add method to add two vectors.\n",
        "\n",
        "class Vector:\n",
        "    def __init__(self, x, y):\n",
        "        self.x = x\n",
        "        self.y = y\n",
        "\n",
        "    def __add__(self, other):\n",
        "        return Vector(self.x + other.x, self.y + other.y)\n",
        "\n",
        "    def __str__(self):\n",
        "        return f\"Vector({self.x}, {self.y})\"\n",
        "\n",
        "v1 = Vector(2, 3)\n",
        "v2 = Vector(4, 5)\n",
        "v3 = v1 + v2\n",
        "print(v3)"
      ],
      "metadata": {
        "colab": {
          "base_uri": "https://localhost:8080/"
        },
        "id": "2XhxWBkRI-7b",
        "outputId": "4c4e4339-ae08-41e5-d15f-d082ebe4e71b"
      },
      "execution_count": 14,
      "outputs": [
        {
          "output_type": "stream",
          "name": "stdout",
          "text": [
            "Vector(6, 8)\n"
          ]
        }
      ]
    },
    {
      "cell_type": "code",
      "source": [
        "# 11. Create a class Person with attributes name and age.\n",
        "#  Add a method greet() that prints \"Hello, my name is {name} and I am {age} years old.\"\n",
        "\n",
        "class Person:\n",
        "    def __init__(self, name, age):\n",
        "        self.name = name\n",
        "        self.age = age\n",
        "\n",
        "    def greet(self):\n",
        "        print(f\"Hello, my name is {self.name} and I am {self.age} years old.\")\n",
        "\n",
        "# Test\n",
        "p1 = Person(\"Sneha\", 22)"
      ],
      "metadata": {
        "id": "zO0MkmkYGMuN"
      },
      "execution_count": 15,
      "outputs": []
    },
    {
      "cell_type": "code",
      "source": [
        "# 12. Implement a class Student with attributes name and grades.\n",
        "# Create a method average_grade() to compute the average of the grades.\n",
        "\n",
        "class Student:\n",
        "    def __init__(self, name, grades):\n",
        "        self.name = name\n",
        "        self.grades = grades\n",
        "\n",
        "    def average_grade(self):\n",
        "        return sum(self.grades) / len(self.grades)\n",
        "\n",
        "# Test\n",
        "s1 = Student(\"Ravi\", [85, 90, 78, 92])\n",
        "print(\"Average grade of\", s1.name, \"is:\", s1.average_grade())"
      ],
      "metadata": {
        "colab": {
          "base_uri": "https://localhost:8080/"
        },
        "id": "9cNwP9MlGMrf",
        "outputId": "7ebc0083-01c5-452a-a4e6-1c4ddeae91c3"
      },
      "execution_count": 16,
      "outputs": [
        {
          "output_type": "stream",
          "name": "stdout",
          "text": [
            "Average grade of Ravi is: 86.25\n"
          ]
        }
      ]
    },
    {
      "cell_type": "code",
      "source": [
        "# 13. Create a class Rectangle with methods set_dimensions() to set the dimensions and area() to calculate the area.\n",
        "\n",
        "class Rectangle:\n",
        "    def set_dimensions(self, length, width):\n",
        "        self.length = length\n",
        "        self.width = width\n",
        "\n",
        "    def area(self):\n",
        "        return self.length * self.width\n",
        "\n",
        "# Test\n",
        "rect = Rectangle()\n",
        "rect.set_dimensions(5, 3)\n",
        "print(\"Area of rectangle:\", rect.area())"
      ],
      "metadata": {
        "colab": {
          "base_uri": "https://localhost:8080/"
        },
        "id": "De4Tbm4jGMlN",
        "outputId": "aba25c7f-9a84-4c80-d1d3-6d983542d0b4"
      },
      "execution_count": 17,
      "outputs": [
        {
          "output_type": "stream",
          "name": "stdout",
          "text": [
            "Area of rectangle: 15\n"
          ]
        }
      ]
    },
    {
      "cell_type": "code",
      "source": [
        "# 14. Create a class Employee with a method calculate_salary() that computes the salary based on hours worked and hourly rate.\n",
        "# Create a derived class Manager that adds a bonus to the salary\n",
        "\n",
        "class Employee:\n",
        "    def calculate_salary(self, hours_worked, hourly_rate):\n",
        "        return hours_worked * hourly_rate\n",
        "\n",
        "class Manager(Employee):\n",
        "    def calculate_salary(self, hours_worked, hourly_rate, bonus):\n",
        "        base_salary = super().calculate_salary(hours_worked, hourly_rate)\n",
        "        return base_salary + bonus\n",
        "\n",
        "# Test\n",
        "emp = Employee()\n",
        "print(\"Employee salary:\", emp.calculate_salary(40, 200))\n",
        "\n",
        "mgr = Manager()\n",
        "print(\"Manager salary:\", mgr.calculate_salary(40, 200, 5000))"
      ],
      "metadata": {
        "colab": {
          "base_uri": "https://localhost:8080/"
        },
        "id": "V7ZZvepBGMcZ",
        "outputId": "d84be2ae-bbab-49d2-fb1a-4685bdaf6aa7"
      },
      "execution_count": 18,
      "outputs": [
        {
          "output_type": "stream",
          "name": "stdout",
          "text": [
            "Employee salary: 8000\n",
            "Manager salary: 13000\n"
          ]
        }
      ]
    },
    {
      "cell_type": "code",
      "source": [
        "# 15. Create a class Product with attributes name, price, and quantity.\n",
        "#  Implement a method total_price() that calculates the total price of the product.\n",
        "\n",
        "class Product:\n",
        "    def __init__(self, name, price, quantity):\n",
        "        self.name = name\n",
        "        self.price = price\n",
        "        self.quantity = quantity\n",
        "\n",
        "    def total_price(self):\n",
        "        return self.price * self.quantity\n",
        "\n",
        "# Test\n",
        "p1 = Product(\"Laptop\", 50000, 2)\n",
        "print(\"Total price of\", p1.name, \":\", p1.total_price())"
      ],
      "metadata": {
        "colab": {
          "base_uri": "https://localhost:8080/"
        },
        "id": "Z_y7c2EtGMV7",
        "outputId": "1480655e-fd04-44a5-e48c-9bfe8dc78e0c"
      },
      "execution_count": 19,
      "outputs": [
        {
          "output_type": "stream",
          "name": "stdout",
          "text": [
            "Total price of Laptop : 100000\n"
          ]
        }
      ]
    },
    {
      "cell_type": "code",
      "source": [
        "# 16. Create a class Animal with an abstract method sound().\n",
        "# Create two derived classes Cow and Sheep that implement the sound() method.\n",
        "\n",
        "from abc import ABC, abstractmethod\n",
        "\n",
        "class Animal(ABC):\n",
        "    @abstractmethod\n",
        "    def sound(self):\n",
        "        pass\n",
        "\n",
        "class Cow(Animal):\n",
        "    def sound(self):\n",
        "        return \"Moo\"\n",
        "\n",
        "class Sheep(Animal):\n",
        "    def sound(self):\n",
        "        return \"Baa\"\n",
        "\n",
        "# Test\n",
        "c = Cow()\n",
        "s = Sheep()\n",
        "print(\"Cow sound:\", c.sound())\n",
        "print(\"Sheep sound:\", s.sound())"
      ],
      "metadata": {
        "colab": {
          "base_uri": "https://localhost:8080/"
        },
        "id": "jh0F-EQoGMPZ",
        "outputId": "a3051903-6b96-4be9-ebb0-3202f9d309c0"
      },
      "execution_count": 20,
      "outputs": [
        {
          "output_type": "stream",
          "name": "stdout",
          "text": [
            "Cow sound: Moo\n",
            "Sheep sound: Baa\n"
          ]
        }
      ]
    },
    {
      "cell_type": "code",
      "source": [
        "# 17. Create a class Book with attributes title, author, and year_published.\n",
        "# Add a method get_book_info() that returns a formatted string with the book's details.\n",
        "\n",
        "class Book:\n",
        "    def __init__(self, title, author, year_published):\n",
        "        self.title = title\n",
        "        self.author = author\n",
        "        self.year_published = year_published\n",
        "\n",
        "    def get_book_info(self):\n",
        "        return f\"'{self.title}' by {self.author}, published in {self.year_published}\"\n",
        "\n",
        "# Test\n",
        "b1 = Book(\"Python Crash Course\", \"Eric Matthes\", 2019)\n",
        "print(b1.get_book_info())"
      ],
      "metadata": {
        "colab": {
          "base_uri": "https://localhost:8080/"
        },
        "id": "c1Vrz8MTGMHQ",
        "outputId": "b5578061-0585-4f8f-f5bf-e88da194095e"
      },
      "execution_count": 21,
      "outputs": [
        {
          "output_type": "stream",
          "name": "stdout",
          "text": [
            "'Python Crash Course' by Eric Matthes, published in 2019\n"
          ]
        }
      ]
    },
    {
      "cell_type": "code",
      "source": [
        "# 18. Create a class House with attributes address and price. Create a derived class Mansion that adds an\n",
        "# attribute number_of_rooms\n",
        "class House:\n",
        "    def __init__(self, address, price):\n",
        "        self.address = address\n",
        "        self.price = price\n",
        "\n",
        "class Mansion(House):\n",
        "    def __init__(self, address, price, number_of_rooms):\n",
        "        super().__init__(address, price)\n",
        "        self.number_of_rooms = number_of_rooms\n",
        "\n",
        "# Test\n",
        "m1 = Mansion(\"Pune, India\", 25000000, 12)\n",
        "print(\"Mansion Address:\", m1.address)\n",
        "print(\"Price:\", m1.price)"
      ],
      "metadata": {
        "colab": {
          "base_uri": "https://localhost:8080/"
        },
        "id": "gi7f-jB8Jmac",
        "outputId": "64152303-ece3-4495-f8fd-5439ab22e95f"
      },
      "execution_count": 22,
      "outputs": [
        {
          "output_type": "stream",
          "name": "stdout",
          "text": [
            "Mansion Address: Pune, India\n",
            "Price: 25000000\n"
          ]
        }
      ]
    }
  ]
}